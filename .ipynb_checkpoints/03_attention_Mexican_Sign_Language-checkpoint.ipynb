{
 "cells": [
  {
   "cell_type": "markdown",
   "metadata": {
    "id": "LX49T2-0Whkt"
   },
   "source": [
    "# 1. Predefine\n"
   ]
  },
  {
   "cell_type": "markdown",
   "metadata": {
    "id": "gdPXI5cNWwgp"
   },
   "source": [
    "### 1.1 Plot loss curve"
   ]
  },
  {
   "cell_type": "code",
   "execution_count": null,
   "metadata": {
    "id": "8vcgd__WXVoc"
   },
   "outputs": [],
   "source": [
    "import matplotlib.pyplot as plt\n",
    "def plot_loss_curves(history):\n",
    "    loss = history.history['loss']\n",
    "    val_loss = history.history['val_loss']\n",
    "\n",
    "    accuracy = history.history['accuracy']\n",
    "    val_accuracy = history.history['val_accuracy']\n",
    "\n",
    "    epochs = range(len(history.history['loss']))\n",
    "\n",
    "    # Plot loss\n",
    "    plt.plot(epochs, loss, label='training_loss')\n",
    "    plt.plot(epochs, val_loss, label='val_loss')\n",
    "    plt.title('Loss')\n",
    "    plt.xlabel('Epochs')\n",
    "    plt.legend()\n",
    "\n",
    "    # Plot accuracy\n",
    "    plt.figure()\n",
    "    plt.plot(epochs, accuracy, label='training_accuracy')\n",
    "    plt.plot(epochs, val_accuracy, label='val_accuracy')\n",
    "    plt.title('Accuracy')\n",
    "    plt.xlabel('Epochs')\n",
    "    plt.legend()"
   ]
  },
  {
   "cell_type": "markdown",
   "metadata": {
    "id": "D656h8vccM7q"
   },
   "source": [
    "### 1.2 Create history class"
   ]
  },
  {
   "cell_type": "code",
   "execution_count": null,
   "metadata": {
    "id": "IhoQGwMSXcYe"
   },
   "outputs": [],
   "source": [
    "class History:\n",
    "  \n",
    "  def __init__(self, history=None):\n",
    "    self.history = {}\n",
    "    self.create_history_object(history)\n",
    "\n",
    "  def create_history_object(self, history):\n",
    "    if history:\n",
    "      for his in history.history.keys():\n",
    "        self.history[his] = history.history[his]\n",
    "  \n",
    "  def add_history(self, history):\n",
    "    if not self.history:\n",
    "      self.create_history_object(history)\n",
    "      return\n",
    "    for his in history.history.keys():\n",
    "      self.history[his] += history.history[his]"
   ]
  },
  {
   "cell_type": "markdown",
   "metadata": {
    "id": "eCsZzI8RXZFu"
   },
   "source": [
    "## 2. Import dependency"
   ]
  },
  {
   "cell_type": "code",
   "execution_count": null,
   "metadata": {
    "id": "tIOpltyFXl_x"
   },
   "outputs": [],
   "source": [
    "import pandas as pd\n",
    "import numpy as np\n",
    "import glob\n",
    "import os\n",
    "import matplotlib.pyplot as plt\n",
    "from tqdm import tqdm\n",
    "import tensorflow as tf\n",
    "from sklearn.utils import shuffle\n",
    "\n",
    "SEED = 42\n",
    "tf.random.set_seed(SEED)\n",
    "np.random.seed(SEED)"
   ]
  },
  {
   "cell_type": "markdown",
   "metadata": {
    "id": "O-rX6RfsXrRQ"
   },
   "source": [
    "## 3. Get Class Names\n",
    "* 3.1. ClassNames\n",
    "* 3.2. Get ClassDict"
   ]
  },
  {
   "cell_type": "markdown",
   "metadata": {
    "id": "BdTegEAxYH30"
   },
   "source": [
    "### 3.1. get_className"
   ]
  },
  {
   "cell_type": "code",
   "execution_count": null,
   "metadata": {
    "id": "jN8pb4qlYOZ6"
   },
   "outputs": [],
   "source": [
    "def get_className(files_list):\n",
    "    classNames = []\n",
    "    for file in files_list:\n",
    "        label = file.split(\"/\")[-1].split(\"_\")[0]\n",
    "        if label not in classNames:\n",
    "            classNames.append(label)\n",
    "    classNames.sort()\n",
    "    return classNames"
   ]
  },
  {
   "cell_type": "markdown",
   "metadata": {
    "id": "LzHViXEcYQGI"
   },
   "source": [
    "### 3.2. get_classDict"
   ]
  },
  {
   "cell_type": "code",
   "execution_count": null,
   "metadata": {
    "id": "de7aeECPYSRO"
   },
   "outputs": [],
   "source": [
    "def get_classDict(classNames):\n",
    "    classDict = {}\n",
    "    for index, className in enumerate(classNames):\n",
    "        classDict[className] = index\n",
    "    return classDict"
   ]
  },
  {
   "cell_type": "markdown",
   "metadata": {
    "id": "5KJHc_MXYTxY"
   },
   "source": [
    "## 4. Data load\n",
    "* 4.1. load_data\n",
    "* 4.2. get_dataFrame"
   ]
  },
  {
   "cell_type": "markdown",
   "metadata": {
    "id": "3Jk3Kh73YcFH"
   },
   "source": [
    "### 4.1. load_data (data, label)"
   ]
  },
  {
   "cell_type": "code",
   "execution_count": null,
   "metadata": {
    "id": "n39nfCcxYfno"
   },
   "outputs": [],
   "source": [
    "def load_data(filePath, classDict, totalClass):\n",
    "    df = pd.read_csv(filePath).iloc[: ,1:].to_numpy()\n",
    "    label = classDict[filePath.split(\"/\")[-1].split(\"_\")[0]]\n",
    "    # label = tf.keras.utils.to_categorical(label, totalClass, dtype='int8')\n",
    "    return df, label"
   ]
  },
  {
   "cell_type": "markdown",
   "metadata": {
    "id": "92cCiW6sYhZx"
   },
   "source": [
    "### 4.2. get_dataFrame(dataFrame, labels)"
   ]
  },
  {
   "cell_type": "code",
   "execution_count": null,
   "metadata": {
    "id": "2ep_QESRYkmX"
   },
   "outputs": [],
   "source": [
    "def get_dataFrame(filesList, classDict, classNames):\n",
    "    dataFrame = []\n",
    "    labels = []\n",
    "    for filePath in tqdm(filesList):\n",
    "        data, label = load_data(filePath, classDict, len(classNames))\n",
    "        dataFrame.append(data)\n",
    "        labels.append(label)\n",
    "    dataFrame = np.array(dataFrame)\n",
    "    labels = np.array(labels)\n",
    "    return dataFrame, labels"
   ]
  },
  {
   "cell_type": "markdown",
   "metadata": {
    "id": "LyxMAeg-YnDg"
   },
   "source": [
    "## 5. Data preprocessing\n",
    "* 5.1. labels_oneHot_Encoding\n",
    "* 5.2. preprocessing (shifting and scaling)"
   ]
  },
  {
   "cell_type": "markdown",
   "metadata": {
    "id": "E-V6jrIrZCWT"
   },
   "source": [
    "### 5.1. labels_oneHot_Encoding"
   ]
  },
  {
   "cell_type": "code",
   "execution_count": null,
   "metadata": {
    "id": "sOECg_t2ZI7t"
   },
   "outputs": [],
   "source": [
    "def labels_oneHot_Encoding(labels, totalClasses):\n",
    "    return tf.keras.utils.to_categorical(labels, totalClasses, dtype='int8')"
   ]
  },
  {
   "cell_type": "markdown",
   "metadata": {
    "id": "NifJXRtTaQkB"
   },
   "source": [
    "## 6. Call all function and get file path\n",
    "* 6.1. Csv files dir\n",
    "* 6.2. Get all Files list\n",
    "* 6.3. get classNames and classDict\n",
    "* 6.4. get dataFrame and labels\n",
    "* 6.5. data preprocessing\n",
    "* 6.6. labels one hot\n",
    "* 6.7. Data zip\n",
    "* 6.8. Data shuffle\n",
    "* 6.9. Data batch"
   ]
  },
  {
   "cell_type": "markdown",
   "metadata": {
    "id": "Mh_iEThuaWXO"
   },
   "source": [
    "### 6.1. Csv files dir"
   ]
  },
  {
   "cell_type": "code",
   "execution_count": null,
   "metadata": {
    "id": "mwE4-Oqbaliq"
   },
   "outputs": [],
   "source": [
    "train_dir = \"datasets/TrainingValidation\"\n",
    "test_dir = \"datasets/Testing\""
   ]
  },
  {
   "cell_type": "markdown",
   "metadata": {
    "id": "WECbJZl1anBJ"
   },
   "source": [
    "### 6.2. Get all files list"
   ]
  },
  {
   "cell_type": "code",
   "execution_count": null,
   "metadata": {
    "id": "JGvuqrVpapFY"
   },
   "outputs": [],
   "source": [
    "train_files = glob.glob(f\"{train_dir}/*.csv\")\n",
    "test_files = glob.glob(f\"{test_dir}/*.csv\")"
   ]
  },
  {
   "cell_type": "markdown",
   "metadata": {
    "id": "XjN4swU6aqk3"
   },
   "source": [
    "### 6.3. get classNames and classDict"
   ]
  },
  {
   "cell_type": "code",
   "execution_count": null,
   "metadata": {
    "id": "U_kLahVHas7H"
   },
   "outputs": [],
   "source": [
    "classNames = get_className(train_files)\n",
    "classDict = get_classDict(classNames)"
   ]
  },
  {
   "cell_type": "markdown",
   "metadata": {
    "id": "Ayw5-rVIav02"
   },
   "source": [
    "### 6.4. get dataFrame and labels"
   ]
  },
  {
   "cell_type": "code",
   "execution_count": null,
   "metadata": {
    "colab": {
     "base_uri": "https://localhost:8080/"
    },
    "id": "gXfGUkf0ayHZ",
    "outputId": "e0bff3ff-0b59-48fa-8c5d-4bd45b618413"
   },
   "outputs": [
    {
     "name": "stderr",
     "output_type": "stream",
     "text": [
      "100%|██████████| 2550/2550 [00:26<00:00, 95.23it/s]\n"
     ]
    }
   ],
   "source": [
    "trainData, trainLabels =  get_dataFrame(train_files, classDict, classNames)"
   ]
  },
  {
   "cell_type": "code",
   "execution_count": null,
   "metadata": {
    "colab": {
     "base_uri": "https://localhost:8080/"
    },
    "id": "Bn2-18pRa0Jo",
    "outputId": "8b69362f-cef5-4b27-cd0d-3220d8f53ccf"
   },
   "outputs": [
    {
     "name": "stderr",
     "output_type": "stream",
     "text": [
      "100%|██████████| 450/450 [00:15<00:00, 28.19it/s]\n"
     ]
    }
   ],
   "source": [
    "testData, testLabels =  get_dataFrame(test_files, classDict, classNames)"
   ]
  },
  {
   "cell_type": "code",
   "execution_count": null,
   "metadata": {
    "colab": {
     "base_uri": "https://localhost:8080/"
    },
    "id": "aJE9wkEsa2My",
    "outputId": "dd8d9269-33b0-4d1e-e897-8fa934367627"
   },
   "outputs": [
    {
     "data": {
      "text/plain": [
       "((2550, 20, 201), (450, 20, 201), (2550,), (450,))"
      ]
     },
     "execution_count": 18,
     "metadata": {},
     "output_type": "execute_result"
    }
   ],
   "source": [
    "trainData.shape, testData.shape, trainLabels.shape, testLabels.shape"
   ]
  },
  {
   "cell_type": "markdown",
   "metadata": {
    "id": "kfYLVa9RbMlH"
   },
   "source": [
    "### 6.6. labels one hot"
   ]
  },
  {
   "cell_type": "code",
   "execution_count": null,
   "metadata": {
    "id": "fYHRlo0ObSvI"
   },
   "outputs": [],
   "source": [
    "trainLabels = labels_oneHot_Encoding(trainLabels, len(classNames))\n",
    "testLabels = labels_oneHot_Encoding(testLabels, len(classNames))"
   ]
  },
  {
   "cell_type": "markdown",
   "metadata": {
    "id": "2rOgYpkLbWDj"
   },
   "source": [
    "### 6.7. Data shuffle"
   ]
  },
  {
   "cell_type": "code",
   "execution_count": null,
   "metadata": {
    "id": "QpUeYQ98bZas"
   },
   "outputs": [],
   "source": [
    "trainData, trainLabels = shuffle(trainData, trainLabels, random_state=SEED)"
   ]
  },
  {
   "cell_type": "markdown",
   "metadata": {
    "id": "KCH9ZgLFbbbo"
   },
   "source": [
    "## 7. Modeling"
   ]
  },
  {
   "cell_type": "markdown",
   "metadata": {
    "id": "GamkjZtjcFBA"
   },
   "source": [
    "### 7.1. Creating checkpoint"
   ]
  },
  {
   "cell_type": "code",
   "execution_count": null,
   "metadata": {
    "colab": {
     "base_uri": "https://localhost:8080/",
     "height": 35
    },
    "id": "XP8SiZ7Igzs7",
    "outputId": "79412ee0-a6af-4d9b-e06b-8e210519fa47"
   },
   "outputs": [
    {
     "data": {
      "application/vnd.google.colaboratory.intrinsic+json": {
       "type": "string"
      },
      "text/plain": [
       "'/content/drive/MyDrive/Colab Notebooks/Mexican_Sign_language/CheckPoint/model1/cp.ckpt'"
      ]
     },
     "execution_count": 21,
     "metadata": {},
     "output_type": "execute_result"
    }
   ],
   "source": [
    "checkpoint_path = f\"CheckPoint/cp.ckpt\"\n",
    "checkpoint_callback = tf.keras.callbacks.ModelCheckpoint(\n",
    "    checkpoint_path,\n",
    "    save_weights_only=True,\n",
    "    monitor='val_accuracy',\n",
    "    save_best_only=True\n",
    ")"
   ]
  },
  {
   "cell_type": "code",
   "execution_count": null,
   "metadata": {
    "id": "a5ZGMR96lfci"
   },
   "outputs": [],
   "source": [
    "from tensorflow.keras.models import Sequential\n",
    "from tensorflow.keras.layers import LSTM, Dense, GRU, Add, Flatten, Concatenate, Conv1D\n",
    "from tensorflow.keras.callbacks import TensorBoard"
   ]
  },
  {
   "cell_type": "markdown",
   "metadata": {
    "id": "3hddAJ19VeGO"
   },
   "source": [
    "### 7.2. Create model"
   ]
  },
  {
   "cell_type": "code",
   "execution_count": null,
   "metadata": {
    "id": "w3dAknZhb3Yv"
   },
   "outputs": [],
   "source": [
    "input_shape = trainData.shape[-2:]\n",
    "input_layer = tf.keras.layers.Input(shape=input_shape, name='input_layer')\n",
    "\n",
    "layer_1 = Conv1D(64, 3, activation='relu',padding='same')(input_layer)\n",
    "layer_2 = Conv1D(64, 3, activation='relu', padding='same')(input_layer)\n",
    "\n",
    "query_value_attention_seq = tf.keras.layers.Attention()(\n",
    "    [layer_1, layer_2])\n",
    "\n",
    "layer_3 = Conv1D(32, 10, activation='relu',padding='same')(layer_1)\n",
    "layer_4 = Conv1D(128, 10, activation='relu',padding='same')(layer_3)\n",
    "\n",
    "layer_5 = Conv1D(256, 10, activation='relu',padding='same')(layer_2)\n",
    "layer_6 = Conv1D(128, 3, activation='relu',padding='same')(layer_5)\n",
    "\n",
    "query_value_attention_seq_2 = tf.keras.layers.Attention()(\n",
    "    [layer_4, layer_6])\n",
    "\n",
    "concatinate_layer = Concatenate()([query_value_attention_seq, query_value_attention_seq_2])\n",
    "\n",
    "\n",
    "# x = tf.keras.layers.Concatenate()([add_layer_1_2_gru, layer_5])\n",
    "\n",
    "x = tf.keras.layers.Flatten()(concatinate_layer)\n",
    "\n",
    "\n",
    "output_layer = tf.keras.layers.Dense(len(classNames), activation='softmax', name='output_layer')(x)\n",
    "model = tf.keras.Model(input_layer, output_layer)"
   ]
  },
  {
   "cell_type": "code",
   "execution_count": null,
   "metadata": {
    "colab": {
     "base_uri": "https://localhost:8080/"
    },
    "id": "OhMoLJ5XcvuC",
    "outputId": "635f9f8f-7001-40f7-e28d-4fd34866fae9"
   },
   "outputs": [
    {
     "name": "stdout",
     "output_type": "stream",
     "text": [
      "Model: \"model_6\"\n",
      "__________________________________________________________________________________________________\n",
      " Layer (type)                   Output Shape         Param #     Connected to                     \n",
      "==================================================================================================\n",
      " input_layer (InputLayer)       [(None, 20, 201)]    0           []                               \n",
      "                                                                                                  \n",
      " conv1d_25 (Conv1D)             (None, 20, 64)       38656       ['input_layer[0][0]']            \n",
      "                                                                                                  \n",
      " conv1d_26 (Conv1D)             (None, 20, 64)       38656       ['input_layer[0][0]']            \n",
      "                                                                                                  \n",
      " conv1d_27 (Conv1D)             (None, 20, 32)       20512       ['conv1d_25[0][0]']              \n",
      "                                                                                                  \n",
      " conv1d_29 (Conv1D)             (None, 20, 256)      164096      ['conv1d_26[0][0]']              \n",
      "                                                                                                  \n",
      " conv1d_28 (Conv1D)             (None, 20, 128)      41088       ['conv1d_27[0][0]']              \n",
      "                                                                                                  \n",
      " conv1d_30 (Conv1D)             (None, 20, 128)      98432       ['conv1d_29[0][0]']              \n",
      "                                                                                                  \n",
      " attention_9 (Attention)        (None, 20, 64)       0           ['conv1d_25[0][0]',              \n",
      "                                                                  'conv1d_26[0][0]']              \n",
      "                                                                                                  \n",
      " attention_10 (Attention)       (None, 20, 128)      0           ['conv1d_28[0][0]',              \n",
      "                                                                  'conv1d_30[0][0]']              \n",
      "                                                                                                  \n",
      " concatenate_5 (Concatenate)    (None, 20, 192)      0           ['attention_9[0][0]',            \n",
      "                                                                  'attention_10[0][0]']           \n",
      "                                                                                                  \n",
      " flatten_6 (Flatten)            (None, 3840)         0           ['concatenate_5[0][0]']          \n",
      "                                                                                                  \n",
      " output_layer (Dense)           (None, 30)           115230      ['flatten_6[0][0]']              \n",
      "                                                                                                  \n",
      "==================================================================================================\n",
      "Total params: 516,670\n",
      "Trainable params: 516,670\n",
      "Non-trainable params: 0\n",
      "__________________________________________________________________________________________________\n"
     ]
    }
   ],
   "source": [
    "model.compile(optimizer='Adam', loss='categorical_crossentropy', metrics=['accuracy'])\n",
    "model.summary()"
   ]
  },
  {
   "cell_type": "code",
   "execution_count": null,
   "metadata": {
    "id": "fQ0hPwe9ZJGo"
   },
   "outputs": [],
   "source": [
    "histories = History()"
   ]
  },
  {
   "cell_type": "markdown",
   "metadata": {
    "id": "GZbDAEotVrEK"
   },
   "source": [
    "### 7.3. Fit model"
   ]
  },
  {
   "cell_type": "code",
   "execution_count": null,
   "metadata": {
    "colab": {
     "base_uri": "https://localhost:8080/"
    },
    "id": "cn87SNwMc35l",
    "outputId": "b30ea96a-58f6-4695-bc04-414cf44c0506"
   },
   "outputs": [
    {
     "name": "stdout",
     "output_type": "stream",
     "text": [
      "Saving TensorBoard log files to: /content/drive/MyDrive/Colab Notebooks/Mexican_Sign_language/tensorboard/model1/MXSL/20230207-055920\n",
      "Epoch 1/200\n",
      "80/80 [==============================] - 2s 10ms/step - loss: 2.5103 - accuracy: 0.1961 - val_loss: 2.0365 - val_accuracy: 0.3867\n",
      "Epoch 2/200\n",
      "80/80 [==============================] - 1s 7ms/step - loss: 1.4492 - accuracy: 0.4855 - val_loss: 1.4664 - val_accuracy: 0.5622\n",
      "Epoch 3/200\n",
      "80/80 [==============================] - 1s 7ms/step - loss: 1.0338 - accuracy: 0.6200 - val_loss: 1.3751 - val_accuracy: 0.6089\n",
      "Epoch 4/200\n",
      "80/80 [==============================] - 1s 7ms/step - loss: 0.8387 - accuracy: 0.6933 - val_loss: 1.2674 - val_accuracy: 0.6156\n",
      "Epoch 5/200\n",
      "80/80 [==============================] - 1s 7ms/step - loss: 0.8464 - accuracy: 0.6906 - val_loss: 1.2574 - val_accuracy: 0.6556\n",
      "Epoch 6/200\n",
      "80/80 [==============================] - 1s 7ms/step - loss: 0.7130 - accuracy: 0.7447 - val_loss: 1.3633 - val_accuracy: 0.7000\n",
      "Epoch 7/200\n",
      "80/80 [==============================] - 1s 8ms/step - loss: 0.6194 - accuracy: 0.7827 - val_loss: 1.2416 - val_accuracy: 0.6889\n",
      "Epoch 8/200\n",
      "80/80 [==============================] - 1s 8ms/step - loss: 0.5287 - accuracy: 0.8020 - val_loss: 1.2438 - val_accuracy: 0.7067\n",
      "Epoch 9/200\n",
      "80/80 [==============================] - 1s 10ms/step - loss: 0.4290 - accuracy: 0.8490 - val_loss: 0.8855 - val_accuracy: 0.7622\n",
      "Epoch 10/200\n",
      "80/80 [==============================] - 1s 7ms/step - loss: 0.4635 - accuracy: 0.8275 - val_loss: 1.0024 - val_accuracy: 0.7800\n",
      "Epoch 11/200\n",
      "80/80 [==============================] - 1s 8ms/step - loss: 0.3742 - accuracy: 0.8557 - val_loss: 0.8777 - val_accuracy: 0.8222\n",
      "Epoch 12/200\n",
      "80/80 [==============================] - 1s 8ms/step - loss: 0.2637 - accuracy: 0.9075 - val_loss: 0.9780 - val_accuracy: 0.8022\n",
      "Epoch 13/200\n",
      "80/80 [==============================] - 1s 6ms/step - loss: 0.2275 - accuracy: 0.9192 - val_loss: 0.9884 - val_accuracy: 0.8044\n",
      "Epoch 14/200\n",
      "80/80 [==============================] - 1s 9ms/step - loss: 0.3114 - accuracy: 0.8937 - val_loss: 0.6923 - val_accuracy: 0.9111\n",
      "Epoch 15/200\n",
      "80/80 [==============================] - 1s 11ms/step - loss: 0.2207 - accuracy: 0.9200 - val_loss: 0.7589 - val_accuracy: 0.9200\n",
      "Epoch 16/200\n",
      "80/80 [==============================] - 1s 10ms/step - loss: 0.1845 - accuracy: 0.9329 - val_loss: 0.8444 - val_accuracy: 0.8400\n",
      "Epoch 17/200\n",
      "80/80 [==============================] - 1s 11ms/step - loss: 0.1802 - accuracy: 0.9384 - val_loss: 0.6563 - val_accuracy: 0.9267\n",
      "Epoch 18/200\n",
      "80/80 [==============================] - 1s 8ms/step - loss: 0.1444 - accuracy: 0.9510 - val_loss: 0.9078 - val_accuracy: 0.8356\n",
      "Epoch 19/200\n",
      "80/80 [==============================] - 0s 6ms/step - loss: 0.2013 - accuracy: 0.9259 - val_loss: 0.7401 - val_accuracy: 0.8067\n",
      "Epoch 20/200\n",
      "80/80 [==============================] - 1s 7ms/step - loss: 0.1305 - accuracy: 0.9561 - val_loss: 0.6773 - val_accuracy: 0.9289\n",
      "Epoch 21/200\n",
      "80/80 [==============================] - 0s 6ms/step - loss: 0.1075 - accuracy: 0.9608 - val_loss: 0.7150 - val_accuracy: 0.9111\n",
      "Epoch 22/200\n",
      "80/80 [==============================] - 0s 6ms/step - loss: 0.2372 - accuracy: 0.9255 - val_loss: 1.1550 - val_accuracy: 0.7689\n",
      "Epoch 23/200\n",
      "80/80 [==============================] - 0s 6ms/step - loss: 0.1943 - accuracy: 0.9306 - val_loss: 0.6563 - val_accuracy: 0.8933\n",
      "Epoch 24/200\n",
      "80/80 [==============================] - 0s 6ms/step - loss: 0.2158 - accuracy: 0.9247 - val_loss: 0.7332 - val_accuracy: 0.8156\n",
      "Epoch 25/200\n",
      "80/80 [==============================] - 1s 6ms/step - loss: 0.1321 - accuracy: 0.9549 - val_loss: 0.5647 - val_accuracy: 0.9133\n",
      "Epoch 26/200\n",
      "80/80 [==============================] - 0s 6ms/step - loss: 0.1057 - accuracy: 0.9675 - val_loss: 0.6776 - val_accuracy: 0.9156\n",
      "Epoch 27/200\n",
      "80/80 [==============================] - 1s 7ms/step - loss: 0.1024 - accuracy: 0.9647 - val_loss: 0.5102 - val_accuracy: 0.9311\n",
      "Epoch 28/200\n",
      "80/80 [==============================] - 1s 6ms/step - loss: 0.0536 - accuracy: 0.9843 - val_loss: 0.7719 - val_accuracy: 0.9089\n",
      "Epoch 29/200\n",
      "80/80 [==============================] - 1s 6ms/step - loss: 0.1832 - accuracy: 0.9318 - val_loss: 0.5734 - val_accuracy: 0.9089\n",
      "Epoch 30/200\n",
      "80/80 [==============================] - 1s 7ms/step - loss: 0.0591 - accuracy: 0.9812 - val_loss: 0.6603 - val_accuracy: 0.9444\n",
      "Epoch 31/200\n",
      "80/80 [==============================] - 1s 6ms/step - loss: 0.1255 - accuracy: 0.9545 - val_loss: 0.6007 - val_accuracy: 0.9222\n",
      "Epoch 32/200\n",
      "80/80 [==============================] - 1s 7ms/step - loss: 0.0325 - accuracy: 0.9910 - val_loss: 0.6336 - val_accuracy: 0.9467\n",
      "Epoch 33/200\n",
      "80/80 [==============================] - 1s 6ms/step - loss: 0.0586 - accuracy: 0.9820 - val_loss: 0.7444 - val_accuracy: 0.9111\n",
      "Epoch 34/200\n",
      "80/80 [==============================] - 1s 7ms/step - loss: 0.0528 - accuracy: 0.9859 - val_loss: 0.5595 - val_accuracy: 0.9378\n",
      "Epoch 35/200\n",
      "80/80 [==============================] - 1s 6ms/step - loss: 0.0864 - accuracy: 0.9655 - val_loss: 0.7775 - val_accuracy: 0.8978\n",
      "Epoch 36/200\n",
      "80/80 [==============================] - 0s 6ms/step - loss: 0.1448 - accuracy: 0.9471 - val_loss: 0.6803 - val_accuracy: 0.8356\n",
      "Epoch 37/200\n",
      "80/80 [==============================] - 1s 7ms/step - loss: 0.0735 - accuracy: 0.9765 - val_loss: 0.7420 - val_accuracy: 0.9222\n",
      "Epoch 38/200\n",
      "80/80 [==============================] - 1s 9ms/step - loss: 0.1098 - accuracy: 0.9651 - val_loss: 2.1039 - val_accuracy: 0.6556\n",
      "Epoch 39/200\n",
      "80/80 [==============================] - 1s 9ms/step - loss: 0.1780 - accuracy: 0.9494 - val_loss: 0.5958 - val_accuracy: 0.9133\n",
      "Epoch 40/200\n",
      "80/80 [==============================] - 1s 10ms/step - loss: 0.0601 - accuracy: 0.9827 - val_loss: 0.5953 - val_accuracy: 0.9222\n",
      "Epoch 41/200\n",
      "80/80 [==============================] - 1s 10ms/step - loss: 0.0672 - accuracy: 0.9769 - val_loss: 0.5473 - val_accuracy: 0.9422\n",
      "Epoch 42/200\n",
      "80/80 [==============================] - 1s 7ms/step - loss: 0.1376 - accuracy: 0.9502 - val_loss: 0.8770 - val_accuracy: 0.7778\n",
      "Epoch 43/200\n",
      "80/80 [==============================] - 1s 6ms/step - loss: 0.3483 - accuracy: 0.9102 - val_loss: 0.6130 - val_accuracy: 0.8911\n",
      "Epoch 44/200\n",
      "80/80 [==============================] - 0s 6ms/step - loss: 0.0708 - accuracy: 0.9761 - val_loss: 0.6555 - val_accuracy: 0.9311\n",
      "Epoch 45/200\n",
      "80/80 [==============================] - 1s 7ms/step - loss: 0.0261 - accuracy: 0.9925 - val_loss: 0.4995 - val_accuracy: 0.9533\n",
      "Epoch 46/200\n",
      "80/80 [==============================] - 0s 6ms/step - loss: 0.0537 - accuracy: 0.9820 - val_loss: 1.6752 - val_accuracy: 0.7667\n",
      "Epoch 47/200\n",
      "80/80 [==============================] - 0s 6ms/step - loss: 0.3071 - accuracy: 0.9055 - val_loss: 0.4949 - val_accuracy: 0.9244\n",
      "Epoch 48/200\n",
      "80/80 [==============================] - 1s 6ms/step - loss: 0.0411 - accuracy: 0.9886 - val_loss: 0.5271 - val_accuracy: 0.9422\n",
      "Epoch 49/200\n",
      "80/80 [==============================] - 1s 6ms/step - loss: 0.0714 - accuracy: 0.9796 - val_loss: 0.6917 - val_accuracy: 0.9222\n",
      "Epoch 50/200\n",
      "80/80 [==============================] - 0s 6ms/step - loss: 0.1034 - accuracy: 0.9663 - val_loss: 0.8212 - val_accuracy: 0.8644\n",
      "Epoch 51/200\n",
      "80/80 [==============================] - 1s 6ms/step - loss: 0.0834 - accuracy: 0.9718 - val_loss: 0.6738 - val_accuracy: 0.9267\n",
      "Epoch 52/200\n",
      "80/80 [==============================] - 0s 6ms/step - loss: 0.0384 - accuracy: 0.9851 - val_loss: 0.5544 - val_accuracy: 0.9467\n",
      "Epoch 53/200\n",
      "80/80 [==============================] - 1s 7ms/step - loss: 0.1034 - accuracy: 0.9655 - val_loss: 0.6159 - val_accuracy: 0.8933\n",
      "Epoch 54/200\n",
      "80/80 [==============================] - 1s 7ms/step - loss: 0.0307 - accuracy: 0.9929 - val_loss: 0.5927 - val_accuracy: 0.9578\n",
      "Epoch 55/200\n",
      "80/80 [==============================] - 1s 7ms/step - loss: 0.0376 - accuracy: 0.9894 - val_loss: 0.5972 - val_accuracy: 0.9600\n",
      "Epoch 56/200\n",
      "80/80 [==============================] - 1s 7ms/step - loss: 0.0404 - accuracy: 0.9859 - val_loss: 0.5801 - val_accuracy: 0.9400\n",
      "Epoch 57/200\n",
      "80/80 [==============================] - 0s 6ms/step - loss: 0.0675 - accuracy: 0.9737 - val_loss: 0.6723 - val_accuracy: 0.9444\n",
      "Epoch 58/200\n",
      "80/80 [==============================] - 0s 6ms/step - loss: 0.0393 - accuracy: 0.9851 - val_loss: 0.5177 - val_accuracy: 0.9578\n",
      "Epoch 59/200\n",
      "80/80 [==============================] - 0s 6ms/step - loss: 0.0371 - accuracy: 0.9890 - val_loss: 0.7084 - val_accuracy: 0.9400\n",
      "Epoch 60/200\n",
      "80/80 [==============================] - 0s 6ms/step - loss: 0.1317 - accuracy: 0.9557 - val_loss: 0.6720 - val_accuracy: 0.9156\n",
      "Epoch 61/200\n",
      "80/80 [==============================] - 1s 9ms/step - loss: 0.0562 - accuracy: 0.9847 - val_loss: 0.6082 - val_accuracy: 0.9533\n",
      "Epoch 62/200\n",
      "80/80 [==============================] - 1s 9ms/step - loss: 0.0241 - accuracy: 0.9922 - val_loss: 0.5344 - val_accuracy: 0.9400\n",
      "Epoch 63/200\n",
      "80/80 [==============================] - 1s 9ms/step - loss: 0.0711 - accuracy: 0.9753 - val_loss: 0.9942 - val_accuracy: 0.8911\n",
      "Epoch 64/200\n",
      "80/80 [==============================] - 1s 10ms/step - loss: 0.0226 - accuracy: 0.9945 - val_loss: 0.5560 - val_accuracy: 0.9644\n",
      "Epoch 65/200\n",
      "80/80 [==============================] - 1s 9ms/step - loss: 0.0790 - accuracy: 0.9729 - val_loss: 0.7224 - val_accuracy: 0.9444\n",
      "Epoch 66/200\n",
      "80/80 [==============================] - 1s 6ms/step - loss: 0.0556 - accuracy: 0.9847 - val_loss: 0.6054 - val_accuracy: 0.9600\n",
      "Epoch 67/200\n",
      "80/80 [==============================] - 0s 6ms/step - loss: 0.0667 - accuracy: 0.9788 - val_loss: 1.1805 - val_accuracy: 0.8289\n",
      "Epoch 68/200\n",
      "80/80 [==============================] - 1s 7ms/step - loss: 0.1075 - accuracy: 0.9620 - val_loss: 0.7175 - val_accuracy: 0.9378\n",
      "Epoch 69/200\n",
      "80/80 [==============================] - 1s 6ms/step - loss: 0.1507 - accuracy: 0.9502 - val_loss: 0.5644 - val_accuracy: 0.9356\n",
      "Epoch 70/200\n",
      "80/80 [==============================] - 0s 6ms/step - loss: 0.0538 - accuracy: 0.9816 - val_loss: 0.7233 - val_accuracy: 0.9356\n",
      "Epoch 71/200\n",
      "80/80 [==============================] - 1s 7ms/step - loss: 0.0515 - accuracy: 0.9824 - val_loss: 0.7546 - val_accuracy: 0.9556\n",
      "Epoch 72/200\n",
      "80/80 [==============================] - 1s 6ms/step - loss: 0.0206 - accuracy: 0.9949 - val_loss: 0.8359 - val_accuracy: 0.9556\n",
      "Epoch 73/200\n",
      "80/80 [==============================] - 1s 6ms/step - loss: 0.0347 - accuracy: 0.9875 - val_loss: 0.8112 - val_accuracy: 0.9556\n",
      "Epoch 74/200\n",
      "80/80 [==============================] - 0s 6ms/step - loss: 0.0377 - accuracy: 0.9875 - val_loss: 1.0918 - val_accuracy: 0.8733\n",
      "Epoch 75/200\n",
      "80/80 [==============================] - 0s 6ms/step - loss: 0.1393 - accuracy: 0.9541 - val_loss: 0.7020 - val_accuracy: 0.9178\n",
      "Epoch 76/200\n",
      "80/80 [==============================] - 1s 7ms/step - loss: 0.1094 - accuracy: 0.9631 - val_loss: 0.6405 - val_accuracy: 0.9644\n",
      "Epoch 77/200\n",
      "80/80 [==============================] - 1s 6ms/step - loss: 0.0147 - accuracy: 0.9965 - val_loss: 0.6862 - val_accuracy: 0.9578\n",
      "Epoch 78/200\n",
      "80/80 [==============================] - 1s 6ms/step - loss: 0.0026 - accuracy: 1.0000 - val_loss: 0.7254 - val_accuracy: 0.9622\n",
      "Epoch 79/200\n",
      "80/80 [==============================] - 1s 6ms/step - loss: 0.0017 - accuracy: 1.0000 - val_loss: 0.7014 - val_accuracy: 0.9622\n",
      "Epoch 80/200\n",
      "80/80 [==============================] - 1s 6ms/step - loss: 0.0010 - accuracy: 1.0000 - val_loss: 0.7520 - val_accuracy: 0.9578\n",
      "Epoch 81/200\n",
      "80/80 [==============================] - 1s 6ms/step - loss: 0.0012 - accuracy: 1.0000 - val_loss: 0.7598 - val_accuracy: 0.9578\n",
      "Epoch 82/200\n",
      "80/80 [==============================] - 0s 6ms/step - loss: 8.8483e-04 - accuracy: 1.0000 - val_loss: 0.7309 - val_accuracy: 0.9622\n",
      "Epoch 83/200\n",
      "80/80 [==============================] - 0s 6ms/step - loss: 7.4719e-04 - accuracy: 1.0000 - val_loss: 0.7250 - val_accuracy: 0.9622\n",
      "Epoch 84/200\n",
      "80/80 [==============================] - 0s 6ms/step - loss: 8.0835e-04 - accuracy: 1.0000 - val_loss: 0.7257 - val_accuracy: 0.9622\n",
      "Epoch 85/200\n",
      "80/80 [==============================] - 1s 8ms/step - loss: 5.6130e-04 - accuracy: 1.0000 - val_loss: 0.7387 - val_accuracy: 0.9622\n",
      "Epoch 86/200\n",
      "80/80 [==============================] - 1s 10ms/step - loss: 6.5076e-04 - accuracy: 1.0000 - val_loss: 0.7369 - val_accuracy: 0.9622\n",
      "Epoch 87/200\n",
      "80/80 [==============================] - 1s 8ms/step - loss: 4.7932e-04 - accuracy: 1.0000 - val_loss: 0.7463 - val_accuracy: 0.9622\n",
      "Epoch 88/200\n",
      "80/80 [==============================] - 1s 9ms/step - loss: 3.6736e-04 - accuracy: 1.0000 - val_loss: 0.7416 - val_accuracy: 0.9622\n",
      "Epoch 89/200\n",
      "80/80 [==============================] - 1s 10ms/step - loss: 3.3188e-04 - accuracy: 1.0000 - val_loss: 0.7669 - val_accuracy: 0.9622\n",
      "Epoch 90/200\n",
      "80/80 [==============================] - 1s 7ms/step - loss: 3.5457e-04 - accuracy: 1.0000 - val_loss: 0.7409 - val_accuracy: 0.9622\n",
      "Epoch 91/200\n",
      "80/80 [==============================] - 1s 6ms/step - loss: 0.0181 - accuracy: 0.9949 - val_loss: 0.6105 - val_accuracy: 0.9422\n",
      "Epoch 92/200\n",
      "80/80 [==============================] - 1s 6ms/step - loss: 0.3511 - accuracy: 0.8976 - val_loss: 0.6190 - val_accuracy: 0.8933\n",
      "Epoch 93/200\n",
      "80/80 [==============================] - 0s 6ms/step - loss: 0.2063 - accuracy: 0.9392 - val_loss: 0.6569 - val_accuracy: 0.8978\n",
      "Epoch 94/200\n",
      "80/80 [==============================] - 1s 6ms/step - loss: 0.0606 - accuracy: 0.9804 - val_loss: 0.5595 - val_accuracy: 0.9533\n",
      "Epoch 95/200\n",
      "80/80 [==============================] - 1s 7ms/step - loss: 0.1322 - accuracy: 0.9533 - val_loss: 0.7584 - val_accuracy: 0.9467\n",
      "Epoch 96/200\n",
      "80/80 [==============================] - 1s 6ms/step - loss: 0.0193 - accuracy: 0.9945 - val_loss: 0.6692 - val_accuracy: 0.9556\n",
      "Epoch 97/200\n",
      "80/80 [==============================] - 1s 6ms/step - loss: 0.0091 - accuracy: 0.9984 - val_loss: 0.5319 - val_accuracy: 0.9622\n",
      "Epoch 98/200\n",
      "80/80 [==============================] - 1s 6ms/step - loss: 0.0066 - accuracy: 0.9992 - val_loss: 0.6370 - val_accuracy: 0.9578\n",
      "Epoch 99/200\n",
      "80/80 [==============================] - 1s 6ms/step - loss: 0.0053 - accuracy: 0.9996 - val_loss: 0.6152 - val_accuracy: 0.9622\n",
      "Epoch 100/200\n",
      "80/80 [==============================] - 1s 6ms/step - loss: 0.0782 - accuracy: 0.9706 - val_loss: 0.5889 - val_accuracy: 0.9267\n",
      "Epoch 101/200\n",
      "80/80 [==============================] - 1s 6ms/step - loss: 0.2133 - accuracy: 0.9357 - val_loss: 0.6454 - val_accuracy: 0.9556\n",
      "Epoch 102/200\n",
      "80/80 [==============================] - 1s 6ms/step - loss: 0.0407 - accuracy: 0.9894 - val_loss: 0.6688 - val_accuracy: 0.9644\n",
      "Epoch 103/200\n",
      "80/80 [==============================] - 1s 7ms/step - loss: 0.0381 - accuracy: 0.9851 - val_loss: 0.5752 - val_accuracy: 0.9733\n",
      "Epoch 104/200\n",
      "80/80 [==============================] - 1s 7ms/step - loss: 0.0121 - accuracy: 0.9973 - val_loss: 0.6412 - val_accuracy: 0.9644\n",
      "Epoch 105/200\n",
      "80/80 [==============================] - 0s 6ms/step - loss: 0.0033 - accuracy: 0.9996 - val_loss: 0.6325 - val_accuracy: 0.9689\n",
      "Epoch 106/200\n",
      "80/80 [==============================] - 1s 7ms/step - loss: 0.0018 - accuracy: 1.0000 - val_loss: 0.6563 - val_accuracy: 0.9667\n",
      "Epoch 107/200\n",
      "80/80 [==============================] - 1s 6ms/step - loss: 0.0015 - accuracy: 1.0000 - val_loss: 0.6350 - val_accuracy: 0.9711\n",
      "Epoch 108/200\n",
      "80/80 [==============================] - 1s 6ms/step - loss: 0.0011 - accuracy: 1.0000 - val_loss: 0.6319 - val_accuracy: 0.9711\n",
      "Epoch 109/200\n",
      "80/80 [==============================] - 1s 9ms/step - loss: 8.5185e-04 - accuracy: 1.0000 - val_loss: 0.5997 - val_accuracy: 0.9711\n",
      "Epoch 110/200\n",
      "80/80 [==============================] - 1s 10ms/step - loss: 0.0012 - accuracy: 1.0000 - val_loss: 0.6490 - val_accuracy: 0.9711\n",
      "Epoch 111/200\n",
      "80/80 [==============================] - 1s 9ms/step - loss: 0.0010 - accuracy: 1.0000 - val_loss: 0.6209 - val_accuracy: 0.9711\n",
      "Epoch 112/200\n",
      "80/80 [==============================] - 1s 9ms/step - loss: 5.0693e-04 - accuracy: 1.0000 - val_loss: 0.6556 - val_accuracy: 0.9711\n",
      "Epoch 113/200\n",
      "80/80 [==============================] - 1s 8ms/step - loss: 4.5176e-04 - accuracy: 1.0000 - val_loss: 0.6689 - val_accuracy: 0.9711\n",
      "Epoch 114/200\n",
      "80/80 [==============================] - 1s 7ms/step - loss: 3.7533e-04 - accuracy: 1.0000 - val_loss: 0.6767 - val_accuracy: 0.9711\n",
      "Epoch 115/200\n",
      "80/80 [==============================] - 1s 6ms/step - loss: 3.7826e-04 - accuracy: 1.0000 - val_loss: 0.6804 - val_accuracy: 0.9711\n",
      "Epoch 116/200\n",
      "80/80 [==============================] - 1s 7ms/step - loss: 3.6935e-04 - accuracy: 1.0000 - val_loss: 0.6666 - val_accuracy: 0.9711\n",
      "Epoch 117/200\n",
      "80/80 [==============================] - 0s 6ms/step - loss: 3.9263e-04 - accuracy: 1.0000 - val_loss: 0.6356 - val_accuracy: 0.9711\n",
      "Epoch 118/200\n",
      "80/80 [==============================] - 1s 6ms/step - loss: 0.0205 - accuracy: 0.9945 - val_loss: 0.5330 - val_accuracy: 0.9467\n",
      "Epoch 119/200\n",
      "80/80 [==============================] - 1s 6ms/step - loss: 0.2272 - accuracy: 0.9349 - val_loss: 1.1654 - val_accuracy: 0.8089\n",
      "Epoch 120/200\n",
      "80/80 [==============================] - 1s 6ms/step - loss: 0.1802 - accuracy: 0.9467 - val_loss: 0.7085 - val_accuracy: 0.9556\n",
      "Epoch 121/200\n",
      "80/80 [==============================] - 1s 6ms/step - loss: 0.0371 - accuracy: 0.9894 - val_loss: 0.7314 - val_accuracy: 0.9622\n",
      "Epoch 122/200\n",
      "80/80 [==============================] - 1s 6ms/step - loss: 0.0165 - accuracy: 0.9941 - val_loss: 0.7514 - val_accuracy: 0.9533\n",
      "Epoch 123/200\n",
      "80/80 [==============================] - 1s 6ms/step - loss: 0.0048 - accuracy: 0.9988 - val_loss: 0.7956 - val_accuracy: 0.9578\n",
      "Epoch 124/200\n",
      "80/80 [==============================] - 1s 6ms/step - loss: 0.0193 - accuracy: 0.9929 - val_loss: 0.8046 - val_accuracy: 0.9489\n",
      "Epoch 125/200\n",
      "80/80 [==============================] - 0s 6ms/step - loss: 0.0540 - accuracy: 0.9812 - val_loss: 0.5961 - val_accuracy: 0.9733\n",
      "Epoch 126/200\n",
      "80/80 [==============================] - 0s 6ms/step - loss: 0.0418 - accuracy: 0.9867 - val_loss: 0.6725 - val_accuracy: 0.9556\n",
      "Epoch 127/200\n",
      "80/80 [==============================] - 1s 7ms/step - loss: 0.0270 - accuracy: 0.9886 - val_loss: 0.7263 - val_accuracy: 0.9578\n",
      "Epoch 128/200\n",
      "80/80 [==============================] - 1s 6ms/step - loss: 0.0451 - accuracy: 0.9851 - val_loss: 0.6011 - val_accuracy: 0.9622\n",
      "Epoch 129/200\n",
      "80/80 [==============================] - 1s 6ms/step - loss: 0.0104 - accuracy: 0.9984 - val_loss: 0.6873 - val_accuracy: 0.9600\n",
      "Epoch 130/200\n",
      "80/80 [==============================] - 1s 7ms/step - loss: 0.0012 - accuracy: 1.0000 - val_loss: 0.6610 - val_accuracy: 0.9622\n",
      "Epoch 131/200\n",
      "80/80 [==============================] - 0s 6ms/step - loss: 8.7901e-04 - accuracy: 1.0000 - val_loss: 0.6838 - val_accuracy: 0.9622\n",
      "Epoch 132/200\n",
      "80/80 [==============================] - 1s 7ms/step - loss: 5.9446e-04 - accuracy: 1.0000 - val_loss: 0.7018 - val_accuracy: 0.9600\n",
      "Epoch 133/200\n",
      "80/80 [==============================] - 1s 9ms/step - loss: 4.7400e-04 - accuracy: 1.0000 - val_loss: 0.6938 - val_accuracy: 0.9622\n",
      "Epoch 134/200\n",
      "80/80 [==============================] - 1s 10ms/step - loss: 3.8070e-04 - accuracy: 1.0000 - val_loss: 0.7195 - val_accuracy: 0.9600\n",
      "Epoch 135/200\n",
      "80/80 [==============================] - 1s 9ms/step - loss: 3.5996e-04 - accuracy: 1.0000 - val_loss: 0.7155 - val_accuracy: 0.9622\n",
      "Epoch 136/200\n",
      "80/80 [==============================] - 1s 10ms/step - loss: 3.1881e-04 - accuracy: 1.0000 - val_loss: 0.7075 - val_accuracy: 0.9622\n",
      "Epoch 137/200\n",
      "80/80 [==============================] - 1s 8ms/step - loss: 3.1904e-04 - accuracy: 1.0000 - val_loss: 0.7139 - val_accuracy: 0.9644\n",
      "Epoch 138/200\n",
      "80/80 [==============================] - 1s 7ms/step - loss: 2.6870e-04 - accuracy: 1.0000 - val_loss: 0.7274 - val_accuracy: 0.9622\n",
      "Epoch 139/200\n",
      "80/80 [==============================] - 1s 7ms/step - loss: 2.4139e-04 - accuracy: 1.0000 - val_loss: 0.7436 - val_accuracy: 0.9600\n",
      "Epoch 140/200\n",
      "80/80 [==============================] - 1s 7ms/step - loss: 2.3005e-04 - accuracy: 1.0000 - val_loss: 0.7357 - val_accuracy: 0.9600\n",
      "Epoch 141/200\n",
      "80/80 [==============================] - 1s 11ms/step - loss: 2.0586e-04 - accuracy: 1.0000 - val_loss: 0.7381 - val_accuracy: 0.9622\n",
      "Epoch 142/200\n",
      "80/80 [==============================] - 1s 6ms/step - loss: 2.0847e-04 - accuracy: 1.0000 - val_loss: 0.7405 - val_accuracy: 0.9622\n",
      "Epoch 143/200\n",
      "80/80 [==============================] - 1s 6ms/step - loss: 1.7196e-04 - accuracy: 1.0000 - val_loss: 0.7502 - val_accuracy: 0.9600\n",
      "Epoch 144/200\n",
      "80/80 [==============================] - 1s 6ms/step - loss: 1.4882e-04 - accuracy: 1.0000 - val_loss: 0.7355 - val_accuracy: 0.9622\n",
      "Epoch 145/200\n",
      "80/80 [==============================] - 0s 6ms/step - loss: 1.4072e-04 - accuracy: 1.0000 - val_loss: 0.7537 - val_accuracy: 0.9622\n",
      "Epoch 146/200\n",
      "80/80 [==============================] - 1s 6ms/step - loss: 1.3100e-04 - accuracy: 1.0000 - val_loss: 0.7648 - val_accuracy: 0.9600\n",
      "Epoch 147/200\n",
      "80/80 [==============================] - 1s 6ms/step - loss: 1.2166e-04 - accuracy: 1.0000 - val_loss: 0.7413 - val_accuracy: 0.9644\n",
      "Epoch 148/200\n",
      "80/80 [==============================] - 1s 6ms/step - loss: 1.2655e-04 - accuracy: 1.0000 - val_loss: 0.7584 - val_accuracy: 0.9622\n",
      "Epoch 149/200\n",
      "80/80 [==============================] - 0s 6ms/step - loss: 1.1008e-04 - accuracy: 1.0000 - val_loss: 0.7410 - val_accuracy: 0.9644\n",
      "Epoch 150/200\n",
      "80/80 [==============================] - 1s 6ms/step - loss: 1.0663e-04 - accuracy: 1.0000 - val_loss: 0.7575 - val_accuracy: 0.9622\n",
      "Epoch 151/200\n",
      "80/80 [==============================] - 1s 7ms/step - loss: 9.6146e-05 - accuracy: 1.0000 - val_loss: 0.7465 - val_accuracy: 0.9644\n",
      "Epoch 152/200\n",
      "80/80 [==============================] - 1s 6ms/step - loss: 8.8403e-05 - accuracy: 1.0000 - val_loss: 0.7817 - val_accuracy: 0.9600\n",
      "Epoch 153/200\n",
      "80/80 [==============================] - 0s 6ms/step - loss: 8.1491e-05 - accuracy: 1.0000 - val_loss: 0.7577 - val_accuracy: 0.9622\n",
      "Epoch 154/200\n",
      "80/80 [==============================] - 1s 6ms/step - loss: 8.4718e-05 - accuracy: 1.0000 - val_loss: 0.7769 - val_accuracy: 0.9600\n",
      "Epoch 155/200\n",
      "80/80 [==============================] - 1s 7ms/step - loss: 8.1621e-05 - accuracy: 1.0000 - val_loss: 0.7480 - val_accuracy: 0.9644\n",
      "Epoch 156/200\n",
      "80/80 [==============================] - 1s 10ms/step - loss: 0.5066 - accuracy: 0.8965 - val_loss: 0.7263 - val_accuracy: 0.8644\n",
      "Epoch 157/200\n",
      "80/80 [==============================] - 1s 10ms/step - loss: 0.1828 - accuracy: 0.9435 - val_loss: 0.8765 - val_accuracy: 0.7667\n",
      "Epoch 158/200\n",
      "80/80 [==============================] - 1s 10ms/step - loss: 0.0962 - accuracy: 0.9663 - val_loss: 0.3888 - val_accuracy: 0.9733\n",
      "Epoch 159/200\n",
      "80/80 [==============================] - 1s 9ms/step - loss: 0.0209 - accuracy: 0.9929 - val_loss: 0.4442 - val_accuracy: 0.9711\n",
      "Epoch 160/200\n",
      "80/80 [==============================] - 1s 7ms/step - loss: 0.0180 - accuracy: 0.9949 - val_loss: 0.4652 - val_accuracy: 0.9689\n",
      "Epoch 161/200\n",
      "80/80 [==============================] - 0s 6ms/step - loss: 0.0043 - accuracy: 0.9992 - val_loss: 0.5575 - val_accuracy: 0.9600\n",
      "Epoch 162/200\n",
      "80/80 [==============================] - 1s 6ms/step - loss: 0.0079 - accuracy: 0.9976 - val_loss: 0.4407 - val_accuracy: 0.9733\n",
      "Epoch 163/200\n",
      "80/80 [==============================] - 0s 6ms/step - loss: 0.0090 - accuracy: 0.9973 - val_loss: 0.7611 - val_accuracy: 0.8733\n",
      "Epoch 164/200\n",
      "80/80 [==============================] - 1s 7ms/step - loss: 0.0317 - accuracy: 0.9894 - val_loss: 0.5038 - val_accuracy: 0.9733\n",
      "Epoch 165/200\n",
      "80/80 [==============================] - 1s 6ms/step - loss: 0.0043 - accuracy: 0.9992 - val_loss: 0.5698 - val_accuracy: 0.9711\n",
      "Epoch 166/200\n",
      "80/80 [==============================] - 1s 7ms/step - loss: 0.0022 - accuracy: 0.9996 - val_loss: 0.5944 - val_accuracy: 0.9711\n",
      "Epoch 167/200\n",
      "80/80 [==============================] - 1s 6ms/step - loss: 9.4798e-04 - accuracy: 1.0000 - val_loss: 0.5761 - val_accuracy: 0.9711\n",
      "Epoch 168/200\n",
      "80/80 [==============================] - 1s 7ms/step - loss: 5.0767e-04 - accuracy: 1.0000 - val_loss: 0.5857 - val_accuracy: 0.9711\n",
      "Epoch 169/200\n",
      "80/80 [==============================] - 1s 6ms/step - loss: 4.6527e-04 - accuracy: 1.0000 - val_loss: 0.5929 - val_accuracy: 0.9711\n",
      "Epoch 170/200\n",
      "80/80 [==============================] - 0s 6ms/step - loss: 4.0743e-04 - accuracy: 1.0000 - val_loss: 0.5737 - val_accuracy: 0.9711\n",
      "Epoch 171/200\n",
      "80/80 [==============================] - 1s 6ms/step - loss: 4.5821e-04 - accuracy: 1.0000 - val_loss: 0.6093 - val_accuracy: 0.9711\n",
      "Epoch 172/200\n",
      "80/80 [==============================] - 1s 12ms/step - loss: 3.6124e-04 - accuracy: 1.0000 - val_loss: 0.6016 - val_accuracy: 0.9711\n",
      "Epoch 173/200\n",
      "80/80 [==============================] - 1s 6ms/step - loss: 5.0199e-04 - accuracy: 1.0000 - val_loss: 0.5923 - val_accuracy: 0.9711\n",
      "Epoch 174/200\n",
      "80/80 [==============================] - 1s 7ms/step - loss: 3.2024e-04 - accuracy: 1.0000 - val_loss: 0.5881 - val_accuracy: 0.9711\n",
      "Epoch 175/200\n",
      "80/80 [==============================] - 1s 7ms/step - loss: 2.8390e-04 - accuracy: 1.0000 - val_loss: 0.5958 - val_accuracy: 0.9711\n",
      "Epoch 176/200\n",
      "80/80 [==============================] - 1s 6ms/step - loss: 3.0778e-04 - accuracy: 1.0000 - val_loss: 0.6196 - val_accuracy: 0.9711\n",
      "Epoch 177/200\n",
      "80/80 [==============================] - 1s 7ms/step - loss: 2.7969e-04 - accuracy: 1.0000 - val_loss: 0.5891 - val_accuracy: 0.9711\n",
      "Epoch 178/200\n",
      "80/80 [==============================] - 1s 9ms/step - loss: 2.7197e-04 - accuracy: 1.0000 - val_loss: 0.6024 - val_accuracy: 0.9711\n",
      "Epoch 179/200\n",
      "80/80 [==============================] - 1s 10ms/step - loss: 2.1348e-04 - accuracy: 1.0000 - val_loss: 0.6137 - val_accuracy: 0.9711\n",
      "Epoch 180/200\n",
      "80/80 [==============================] - 1s 17ms/step - loss: 2.4444e-04 - accuracy: 1.0000 - val_loss: 0.6183 - val_accuracy: 0.9711\n",
      "Epoch 181/200\n",
      "80/80 [==============================] - 1s 12ms/step - loss: 2.4627e-04 - accuracy: 1.0000 - val_loss: 0.5854 - val_accuracy: 0.9711\n",
      "Epoch 182/200\n",
      "80/80 [==============================] - 1s 8ms/step - loss: 1.9777e-04 - accuracy: 1.0000 - val_loss: 0.6100 - val_accuracy: 0.9711\n",
      "Epoch 183/200\n",
      "80/80 [==============================] - 1s 7ms/step - loss: 1.4119e-04 - accuracy: 1.0000 - val_loss: 0.6052 - val_accuracy: 0.9711\n",
      "Epoch 184/200\n",
      "80/80 [==============================] - 1s 6ms/step - loss: 1.3388e-04 - accuracy: 1.0000 - val_loss: 0.6043 - val_accuracy: 0.9711\n",
      "Epoch 185/200\n",
      "80/80 [==============================] - 1s 7ms/step - loss: 2.1028e-04 - accuracy: 1.0000 - val_loss: 0.5994 - val_accuracy: 0.9711\n",
      "Epoch 186/200\n",
      "80/80 [==============================] - 1s 6ms/step - loss: 0.5052 - accuracy: 0.8812 - val_loss: 0.7351 - val_accuracy: 0.9311\n",
      "Epoch 187/200\n",
      "80/80 [==============================] - 1s 6ms/step - loss: 0.1624 - accuracy: 0.9494 - val_loss: 0.8194 - val_accuracy: 0.9600\n",
      "Epoch 188/200\n",
      "80/80 [==============================] - 1s 6ms/step - loss: 0.0314 - accuracy: 0.9886 - val_loss: 0.8612 - val_accuracy: 0.9556\n",
      "Epoch 189/200\n",
      "80/80 [==============================] - 1s 6ms/step - loss: 0.0116 - accuracy: 0.9976 - val_loss: 0.8523 - val_accuracy: 0.9600\n",
      "Epoch 190/200\n",
      "80/80 [==============================] - 1s 6ms/step - loss: 0.0601 - accuracy: 0.9792 - val_loss: 0.8984 - val_accuracy: 0.9311\n",
      "Epoch 191/200\n",
      "80/80 [==============================] - 1s 7ms/step - loss: 0.0250 - accuracy: 0.9922 - val_loss: 0.7736 - val_accuracy: 0.9667\n",
      "Epoch 192/200\n",
      "80/80 [==============================] - 1s 6ms/step - loss: 0.0037 - accuracy: 1.0000 - val_loss: 0.7863 - val_accuracy: 0.9667\n",
      "Epoch 193/200\n",
      "80/80 [==============================] - 1s 7ms/step - loss: 0.0037 - accuracy: 0.9996 - val_loss: 0.7865 - val_accuracy: 0.9689\n",
      "Epoch 194/200\n",
      "80/80 [==============================] - 0s 6ms/step - loss: 0.0014 - accuracy: 1.0000 - val_loss: 0.8009 - val_accuracy: 0.9689\n",
      "Epoch 195/200\n",
      "80/80 [==============================] - 1s 6ms/step - loss: 0.0024 - accuracy: 0.9996 - val_loss: 0.7993 - val_accuracy: 0.9644\n",
      "Epoch 196/200\n",
      "80/80 [==============================] - 1s 7ms/step - loss: 0.0035 - accuracy: 0.9992 - val_loss: 0.8430 - val_accuracy: 0.9600\n",
      "Epoch 197/200\n",
      "80/80 [==============================] - 1s 7ms/step - loss: 0.3228 - accuracy: 0.9282 - val_loss: 0.5781 - val_accuracy: 0.9711\n",
      "Epoch 198/200\n",
      "80/80 [==============================] - 1s 6ms/step - loss: 0.0158 - accuracy: 0.9953 - val_loss: 0.6932 - val_accuracy: 0.9689\n",
      "Epoch 199/200\n",
      "80/80 [==============================] - 1s 6ms/step - loss: 0.0033 - accuracy: 1.0000 - val_loss: 0.6879 - val_accuracy: 0.9689\n",
      "Epoch 200/200\n",
      "80/80 [==============================] - 1s 6ms/step - loss: 0.0030 - accuracy: 1.0000 - val_loss: 0.7162 - val_accuracy: 0.9578\n"
     ]
    }
   ],
   "source": [
    "history = model.fit(\n",
    "    trainData,\n",
    "    trainLabels,\n",
    "    validation_data = (testData, testLabels),\n",
    "    batch_size=32,\n",
    "    epochs= 200,\n",
    "    callbacks = [\n",
    "        checkpoint_path\n",
    "    ]\n",
    ")\n",
    "histories.add_history(history)"
   ]
  },
  {
   "cell_type": "code",
   "execution_count": null,
   "metadata": {
    "colab": {
     "base_uri": "https://localhost:8080/",
     "height": 573
    },
    "id": "F5YLU7IIadrq",
    "outputId": "9ce11015-e9e1-4857-f1bc-6c1812827368"
   },
   "outputs": [
    {
     "data": {
      "image/png": "[encoded data removed]",
      "text/plain": [
       "<Figure size 432x288 with 1 Axes>"
      ]
     },
     "metadata": {
      "needs_background": "light"
     },
     "output_type": "display_data"
    },
    {
     "data": {
      "image/png": "[encoded data removed]",
      "text/plain": [
       "<Figure size 432x288 with 1 Axes>"
      ]
     },
     "metadata": {
      "needs_background": "light"
     },
     "output_type": "display_data"
    }
   ],
   "source": [
    "plot_loss_curves(histories)"
   ]
  },
  {
   "cell_type": "markdown",
   "metadata": {
    "id": "cRuN0vUwZ3MD"
   },
   "source": [
    "## 8. Evaluate"
   ]
  },
  {
   "cell_type": "markdown",
   "metadata": {
    "id": "Pzx_CmsVZ5zr"
   },
   "source": [
    "### 8.1. Get best model"
   ]
  },
  {
   "cell_type": "code",
   "execution_count": null,
   "metadata": {
    "id": "3ls5ECC05KP-"
   },
   "outputs": [],
   "source": [
    "best_model = tf.keras.models.clone_model(model)"
   ]
  },
  {
   "cell_type": "code",
   "execution_count": null,
   "metadata": {
    "id": "7PaKw2Yb5l_5"
   },
   "outputs": [],
   "source": [
    "best_model.compile(optimizer='Adam', loss='categorical_crossentropy', metrics=['accuracy'])"
   ]
  },
  {
   "cell_type": "code",
   "execution_count": null,
   "metadata": {
    "colab": {
     "base_uri": "https://localhost:8080/"
    },
    "id": "Xi2NBkDE5-kv",
    "outputId": "178456d3-6e9e-463e-fbad-a0e76928b0f9"
   },
   "outputs": [
    {
     "data": {
      "text/plain": [
       "<tensorflow.python.training.tracking.util.CheckpointLoadStatus at 0x7fdd5467ceb0>"
      ]
     },
     "execution_count": 26,
     "metadata": {},
     "output_type": "execute_result"
    }
   ],
   "source": [
    "best_model.load_weights(checkpoint_path)"
   ]
  },
  {
   "cell_type": "markdown",
   "metadata": {
    "id": "wT7tn-le6Eql"
   },
   "source": [
    "### 8.2. Evaluate"
   ]
  },
  {
   "cell_type": "code",
   "execution_count": null,
   "metadata": {
    "colab": {
     "base_uri": "https://localhost:8080/"
    },
    "id": "GGzYjH-_6IvE",
    "outputId": "373aeec5-33ac-41ef-af4e-c96d3a35e750"
   },
   "outputs": [
    {
     "name": "stdout",
     "output_type": "stream",
     "text": [
      "80/80 [==============================] - 3s 35ms/step - loss: 0.0212 - accuracy: 0.9949\n",
      "15/15 [==============================] - 0s 13ms/step - loss: 0.5752 - accuracy: 0.9733\n"
     ]
    },
    {
     "data": {
      "text/plain": [
       "([0.021215440705418587, 0.9949019551277161],\n",
       " [0.5752114057540894, 0.9733333587646484])"
      ]
     },
     "execution_count": 28,
     "metadata": {},
     "output_type": "execute_result"
    }
   ],
   "source": [
    "best_model.evaluate(trainData, trainLabels), best_model.evaluate(testData, testLabels)"
   ]
  },
  {
   "cell_type": "markdown",
   "metadata": {
    "id": "PTxaaw4a6SZK"
   },
   "source": [
    "### 8.3. Plot confusion_matrix"
   ]
  },
  {
   "cell_type": "code",
   "execution_count": null,
   "metadata": {
    "id": "ieqAlTNL7ufy"
   },
   "outputs": [],
   "source": [
    "import itertools\n",
    "import matplotlib.pyplot as plt\n",
    "import numpy as np\n",
    "from sklearn.metrics import confusion_matrix\n",
    "\n",
    "\n",
    "def make_confusion_matrix(y_true, y_pred, classes=None, figsize=(10, 10), text_size=15, norm=False): \n",
    "  \n",
    "  # Create the confustion matrix\n",
    "  cm = confusion_matrix(y_true, y_pred)\n",
    "  cm_norm = cm.astype(\"float\") / cm.sum(axis=1)[:, np.newaxis] # normalize it\n",
    "  n_classes = cm.shape[0] \n",
    "  # Plot the figure and make it pretty\n",
    "  fig, ax = plt.subplots(figsize=figsize)\n",
    "  cax = ax.matshow(cm, cmap=plt.cm.Blues) # colors will represent how 'correct' a class is, darker == better\n",
    "  fig.colorbar(cax)\n",
    "\n",
    "  # Are there a list of classes?\n",
    "  if classes:\n",
    "    labels = classes\n",
    "  else:\n",
    "    labels = np.arange(cm.shape[0])\n",
    "  \n",
    "  # Label the axes\n",
    "  ax.set(title=\"Confusion Matrix\",\n",
    "    xlabel=\"Predicted label\",\n",
    "    ylabel=\"True label\",\n",
    "    xticks=np.arange(n_classes), # create enough axis slots for each class\n",
    "    yticks=np.arange(n_classes), \n",
    "    xticklabels=labels, # axes will labeled with class names (if they exist) or ints\n",
    "    yticklabels=labels,\n",
    "  )\n",
    "  \n",
    "  # Make x-axis labels appear on bottom\n",
    "  ax.tick_params(axis='x', labelrotation=90)\n",
    "  ax.xaxis.set_label_position(\"bottom\")\n",
    "  ax.xaxis.tick_bottom()\n",
    "\n",
    "  # Set the threshold for different colors\n",
    "  threshold = (cm.max() + cm.min()) / 2.\n",
    "\n",
    "  # Plot the text on each cell\n",
    "  for i, j in itertools.product(range(cm.shape[0]), range(cm.shape[1])):\n",
    "    if norm:\n",
    "      plt.text(j, i, f\"{cm[i, j]} ({cm_norm[i, j]*100:.1f}%)\",\n",
    "              horizontalalignment=\"center\",\n",
    "              color=\"white\" if cm[i, j] > threshold else \"black\",\n",
    "              size=text_size)\n",
    "    else:\n",
    "      plt.text(j, i, f\"{cm[i, j]}\",\n",
    "              horizontalalignment=\"center\",\n",
    "              color=\"white\" if cm[i, j] > threshold else \"black\",\n",
    "              size=text_size)"
   ]
  },
  {
   "cell_type": "code",
   "execution_count": null,
   "metadata": {
    "colab": {
     "base_uri": "https://localhost:8080/"
    },
    "id": "3qb0h0LB66n0",
    "outputId": "ca36acf7-d12b-4f10-abd4-c150b7ab5836"
   },
   "outputs": [
    {
     "name": "stdout",
     "output_type": "stream",
     "text": [
      "15/15 [==============================] - 0s 14ms/step\n"
     ]
    },
    {
     "data": {
      "text/plain": [
       "((450,), (450,))"
      ]
     },
     "execution_count": 34,
     "metadata": {},
     "output_type": "execute_result"
    }
   ],
   "source": [
    "y_true = testLabels\n",
    "y_pred = best_model.predict(testData)\n",
    "y_true = np.argmax(y_true, axis=-1)\n",
    "y_pred = np.argmax(y_pred, axis=-1)\n",
    "y_true.shape, y_pred.shape"
   ]
  },
  {
   "cell_type": "code",
   "execution_count": null,
   "metadata": {
    "colab": {
     "base_uri": "https://localhost:8080/",
     "height": 594
    },
    "id": "ATBr8HO67ZWE",
    "outputId": "7c0cc48f-0e0b-42e3-dbec-90e3a01ba5be"
   },
   "outputs": [
    {
     "data": {
      "image/png": "[encoded data removed]",
      "text/plain": [
       "<Figure size 720x720 with 2 Axes>"
      ]
     },
     "metadata": {
      "needs_background": "light"
     },
     "output_type": "display_data"
    }
   ],
   "source": [
    "make_confusion_matrix(y_true, y_pred, classNames)"
   ]
  },
  {
   "cell_type": "code",
   "execution_count": null,
   "metadata": {
    "id": "484uKVUO7k6u"
   },
   "outputs": [],
   "source": []
  }
 ],
 "metadata": {
  "colab": {
   "provenance": [],
   "toc_visible": true
  },
  "gpuClass": "standard",
  "kernelspec": {
   "display_name": "Python 3 (ipykernel)",
   "language": "python",
   "name": "python3"
  },
  "language_info": {
   "codemirror_mode": {
    "name": "ipython",
    "version": 3
   },
   "file_extension": ".py",
   "mimetype": "text/x-python",
   "name": "python",
   "nbconvert_exporter": "python",
   "pygments_lexer": "ipython3",
   "version": "3.10.6"
  },
  "vscode": {
   "interpreter": {
    "hash": "e7370f93d1d0cde622a1f8e1c04877d8463912d04d973331ad4851f04de6915a"
   }
  }
 },
 "nbformat": 4,
 "nbformat_minor": 1
}
